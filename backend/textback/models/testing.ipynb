{
 "cells": [
  {
   "cell_type": "code",
   "execution_count": 28,
   "metadata": {},
   "outputs": [
    {
     "name": "stderr",
     "output_type": "stream",
     "text": [
      "Testing instances: 100%|██████████| 77/77 [02:27<00:00,  1.91s/it]\n"
     ]
    }
   ],
   "source": []
  },
  {
   "cell_type": "code",
   "execution_count": 32,
   "metadata": {},
   "outputs": [
    {
     "name": "stderr",
     "output_type": "stream",
     "text": [
      "Testing instances: 100%|██████████| 77/77 [02:42<00:00,  2.12s/it]"
     ]
    },
    {
     "name": "stdout",
     "output_type": "stream",
     "text": [
      "21-Apr-24 22:39:30 - No instance specified, using random instance https://nitter.privacydev.net\n"
     ]
    },
    {
     "name": "stderr",
     "output_type": "stream",
     "text": [
      "\n"
     ]
    },
    {
     "name": "stdout",
     "output_type": "stream",
     "text": [
      "21-Apr-24 22:39:40 - Current stats for MrBeast: 17 tweets, 0 threads...\n",
      "21-Apr-24 22:39:44 - Current stats for MrBeast: 34 tweets, 0 threads...\n",
      "21-Apr-24 22:39:49 - Current stats for MrBeast: 48 tweets, 0 threads...\n",
      "21-Apr-24 22:39:55 - Current stats for MrBeast: 60 tweets, 0 threads...\n",
      "21-Apr-24 22:40:01 - Current stats for MrBeast: 73 tweets, 0 threads...\n",
      "21-Apr-24 22:40:06 - Current stats for MrBeast: 87 tweets, 0 threads...\n",
      "21-Apr-24 22:40:09 - Empty page on https://nitter.privacydev.net\n",
      "(18, 69)\n"
     ]
    }
   ],
   "source": [
    "import dill\n",
    "import pickle\n",
    "model = pickle.load(open(\"model.pkl\",\"rb\"))\n",
    "cv = pickle.load(open(\"vectorizer.pkl\",\"rb\"))\n",
    "\n",
    "with open('scraper_function.pkl', 'rb') as f:\n",
    "    loaded_scraper = dill.load(f)\n",
    "\n",
    "result = loaded_scraper(\"MrBeast\")\n",
    "print(result)\n"
   ]
  }
 ],
 "metadata": {
  "kernelspec": {
   "display_name": "Python 3",
   "language": "python",
   "name": "python3"
  },
  "language_info": {
   "codemirror_mode": {
    "name": "ipython",
    "version": 3
   },
   "file_extension": ".py",
   "mimetype": "text/x-python",
   "name": "python",
   "nbconvert_exporter": "python",
   "pygments_lexer": "ipython3",
   "version": "3.12.0"
  }
 },
 "nbformat": 4,
 "nbformat_minor": 2
}
