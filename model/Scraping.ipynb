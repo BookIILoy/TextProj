{
 "cells": [
  {
   "cell_type": "code",
   "execution_count": 1,
   "metadata": {},
   "outputs": [],
   "source": [
    "import pandas as pd\n",
    "from ntscraper import Nitter"
   ]
  },
  {
   "cell_type": "code",
   "execution_count": 2,
   "metadata": {},
   "outputs": [
    {
     "name": "stderr",
     "output_type": "stream",
     "text": [
      "Testing instances: 100%|██████████| 77/77 [02:25<00:00,  1.89s/it]\n"
     ]
    }
   ],
   "source": [
    "Scraper = Nitter()"
   ]
  },
  {
   "cell_type": "code",
   "execution_count": 12,
   "metadata": {},
   "outputs": [
    {
     "name": "stdout",
     "output_type": "stream",
     "text": [
      "28-Apr-24 21:26:11 - No instance specified, using random instance https://nitter.esmailelbob.xyz\n",
      "28-Apr-24 21:26:17 - Current stats for BarackObama: 20 tweets, 0 threads...\n",
      "28-Apr-24 21:26:21 - Current stats for BarackObama: 40 tweets, 0 threads...\n",
      "28-Apr-24 21:26:25 - Current stats for BarackObama: 60 tweets, 0 threads...\n",
      "28-Apr-24 21:26:30 - Current stats for BarackObama: 80 tweets, 0 threads...\n",
      "28-Apr-24 21:26:34 - Current stats for BarackObama: 100 tweets, 0 threads...\n",
      "28-Apr-24 21:26:38 - Current stats for BarackObama: 120 tweets, 0 threads...\n",
      "28-Apr-24 21:26:42 - Current stats for BarackObama: 140 tweets, 0 threads...\n",
      "28-Apr-24 21:26:46 - Current stats for BarackObama: 160 tweets, 0 threads...\n",
      "28-Apr-24 21:26:51 - Current stats for BarackObama: 180 tweets, 0 threads...\n",
      "28-Apr-24 21:26:55 - Current stats for BarackObama: 200 tweets, 0 threads...\n",
      "28-Apr-24 21:26:59 - Current stats for BarackObama: 220 tweets, 0 threads...\n",
      "28-Apr-24 21:27:05 - Current stats for BarackObama: 240 tweets, 0 threads...\n",
      "28-Apr-24 21:27:09 - Current stats for BarackObama: 260 tweets, 0 threads...\n",
      "28-Apr-24 21:27:14 - Current stats for BarackObama: 280 tweets, 0 threads...\n",
      "28-Apr-24 21:27:18 - Current stats for BarackObama: 300 tweets, 0 threads...\n",
      "28-Apr-24 21:27:22 - Current stats for BarackObama: 320 tweets, 0 threads...\n",
      "28-Apr-24 21:27:26 - Current stats for BarackObama: 340 tweets, 0 threads...\n",
      "28-Apr-24 21:27:31 - Current stats for BarackObama: 360 tweets, 0 threads...\n",
      "28-Apr-24 21:27:35 - Current stats for BarackObama: 380 tweets, 0 threads...\n",
      "28-Apr-24 21:27:39 - Current stats for BarackObama: 400 tweets, 0 threads...\n",
      "28-Apr-24 21:27:43 - Current stats for BarackObama: 420 tweets, 0 threads...\n",
      "28-Apr-24 21:27:48 - Current stats for BarackObama: 440 tweets, 0 threads...\n",
      "28-Apr-24 21:27:53 - Current stats for BarackObama: 460 tweets, 0 threads...\n",
      "28-Apr-24 21:27:57 - Current stats for BarackObama: 480 tweets, 0 threads...\n",
      "28-Apr-24 21:28:02 - Current stats for BarackObama: 500 tweets, 0 threads...\n"
     ]
    }
   ],
   "source": [
    "#tweets =Scraper.get_tweets(\"realDonaldTrump\",mode ='user',number = 100)\n",
    "def scraping(input):\n",
    "    tweets =Scraper.get_tweets(input,mode ='user',number = 500)\n",
    "    return tweets\n",
    "\n",
    "tweets = scraping(\"BarackObama\")"
   ]
  },
  {
   "cell_type": "code",
   "execution_count": 13,
   "metadata": {},
   "outputs": [],
   "source": [
    "final_tweets = []\n",
    "for tweet in tweets['tweets']:\n",
    "    #data = [tweet['link'],tweet['text'],tweet['date'],tweet['stats']['likes'],tweet['stats']['comments']]\n",
    "    data = [tweet['text'],tweet['date']]\n",
    "    final_tweets.append(data)"
   ]
  },
  {
   "cell_type": "code",
   "execution_count": 14,
   "metadata": {},
   "outputs": [],
   "source": [
    "data =pd.DataFrame(final_tweets, columns= ['text','date'])\n",
    "#columns= ['link','text','date','no_likes','comment'])"
   ]
  },
  {
   "cell_type": "code",
   "execution_count": 15,
   "metadata": {},
   "outputs": [
    {
     "name": "stderr",
     "output_type": "stream",
     "text": [
      "/var/folders/wh/d15mczds4wxfm8qht9nw7p_w0000gn/T/ipykernel_18540/4118179080.py:2: UserWarning: Converting to PeriodArray/Index representation will drop timezone information.\n",
      "  data['date'] = data['date'].dt.to_period('M')\n"
     ]
    }
   ],
   "source": [
    "data['date'] = pd.to_datetime(data['date'], format='%b %d, %Y · %I:%M %p %Z')\n",
    "data['date'] = data['date'].dt.to_period('M')\n"
   ]
  },
  {
   "cell_type": "code",
   "execution_count": 16,
   "metadata": {},
   "outputs": [
    {
     "data": {
      "text/html": [
       "<div>\n",
       "<style scoped>\n",
       "    .dataframe tbody tr th:only-of-type {\n",
       "        vertical-align: middle;\n",
       "    }\n",
       "\n",
       "    .dataframe tbody tr th {\n",
       "        vertical-align: top;\n",
       "    }\n",
       "\n",
       "    .dataframe thead th {\n",
       "        text-align: right;\n",
       "    }\n",
       "</style>\n",
       "<table border=\"1\" class=\"dataframe\">\n",
       "  <thead>\n",
       "    <tr style=\"text-align: right;\">\n",
       "      <th></th>\n",
       "      <th>text</th>\n",
       "      <th>date</th>\n",
       "    </tr>\n",
       "  </thead>\n",
       "  <tbody>\n",
       "    <tr>\n",
       "      <th>495</th>\n",
       "      <td>I am shocked and saddened by the assassination...</td>\n",
       "      <td>2022-07</td>\n",
       "    </tr>\n",
       "    <tr>\n",
       "      <th>496</th>\n",
       "      <td>Right now, thousands of Ukrainian families are...</td>\n",
       "      <td>2022-07</td>\n",
       "    </tr>\n",
       "    <tr>\n",
       "      <th>497</th>\n",
       "      <td>Michelle and I mourn the passing of Clifford A...</td>\n",
       "      <td>2022-07</td>\n",
       "    </tr>\n",
       "    <tr>\n",
       "      <th>498</th>\n",
       "      <td>Happy birthday, Malia! No matter how sophistic...</td>\n",
       "      <td>2022-07</td>\n",
       "    </tr>\n",
       "    <tr>\n",
       "      <th>499</th>\n",
       "      <td>Happy Fourth of July!   As we celebrate today,...</td>\n",
       "      <td>2022-07</td>\n",
       "    </tr>\n",
       "  </tbody>\n",
       "</table>\n",
       "</div>"
      ],
      "text/plain": [
       "                                                  text     date\n",
       "495  I am shocked and saddened by the assassination...  2022-07\n",
       "496  Right now, thousands of Ukrainian families are...  2022-07\n",
       "497  Michelle and I mourn the passing of Clifford A...  2022-07\n",
       "498  Happy birthday, Malia! No matter how sophistic...  2022-07\n",
       "499  Happy Fourth of July!   As we celebrate today,...  2022-07"
      ]
     },
     "execution_count": 16,
     "metadata": {},
     "output_type": "execute_result"
    }
   ],
   "source": [
    "data.tail()"
   ]
  },
  {
   "cell_type": "code",
   "execution_count": 17,
   "metadata": {},
   "outputs": [],
   "source": [
    "import dill\n",
    "def clean(text):\n",
    "    import re\n",
    "    import nltk\n",
    "    from nltk.util import pr\n",
    "    stemmer = nltk.SnowballStemmer(\"english\")\n",
    "    from nltk.corpus import stopwords\n",
    "    import string\n",
    "    stopword = set(stopwords.words(\"english\"))\n",
    "    text = str(text).lower()\n",
    "    text = re.sub('[.?]', '', text)\n",
    "    text = re.sub('https?://\\S+|www\\.\\S+', '', text)\n",
    "    text = re.sub('<.?>+', '', text)\n",
    "    text = re.sub('[%s]' % re.escape(string.punctuation), '', text)\n",
    "    text = re.sub('\\n', '', text)\n",
    "    text = re.sub('\\w\\d\\w', '', text)\n",
    "    text = [word for word in text.split(' ') if word not in stopword]\n",
    "    text = \" \".join(text)\n",
    "    text = [stemmer.stem(word) for word in text.split(' ')]\n",
    "    text = \" \".join(text)\n",
    "    return text\n",
    "\n",
    "with open('../backend/textback/models/clean_function.pkl', 'wb') as f:\n",
    "     dill.dump(clean, f)"
   ]
  },
  {
   "cell_type": "code",
   "execution_count": 18,
   "metadata": {},
   "outputs": [],
   "source": [
    "import pickle\n",
    "model = pickle.load(open(\"../backend/textback/models/model.pkl\",\"rb\"))\n",
    "cv = pickle.load(open(\"../backend/textback/models/vectorizer.pkl\",\"rb\"))\n",
    "\n",
    "def predict(input):\n",
    "    input = cv.transform([input]).toarray()\n",
    "    predict = model.predict(input)[0]\n",
    "    return predict"
   ]
  },
  {
   "cell_type": "code",
   "execution_count": 19,
   "metadata": {},
   "outputs": [
    {
     "name": "stdout",
     "output_type": "stream",
     "text": [
      "Score about Negative and Nuetral in This user is\n",
      " Negative =  119 \n",
      " Nuetral =  381\n"
     ]
    }
   ],
   "source": [
    "tweets_cleaned = []\n",
    "Negative = 0\n",
    "Nuetral = 0\n",
    "for i in range(len(final_tweets)):\n",
    "    clean_tweets = clean(final_tweets[i])\n",
    "    if clean_tweets != \"\":\n",
    "        tweets_cleaned.append(clean_tweets)\n",
    "\n",
    "\n",
    "for i in range(len(tweets_cleaned)):\n",
    "    prediction = predict(tweets_cleaned[i])\n",
    "    if prediction == \"No hate and offensive speech\":\n",
    "        Nuetral += 1\n",
    "    elif prediction == \"Offensive language detected\":\n",
    "        Negative += 1\n",
    "    else :\n",
    "       Negative += 1\n",
    "\n",
    "#keep the score for each text in the dataframe file\n",
    "data['score'] = data['text'].apply(predict)\n",
    "\n",
    "#change score to numeric form 0,1,2\n",
    "data['score'] = data['score'].replace({'No hate and offensive speech':0,'Offensive language detected':1,'Hate speech Detected':2})\n",
    "print(\"Score about Negative and Nuetral in This user is\\n Negative = \" , Negative , \"\\n Nuetral = \" , Nuetral)\n"
   ]
  },
  {
   "cell_type": "code",
   "execution_count": 20,
   "metadata": {},
   "outputs": [],
   "source": [
    "#data to csv file\n",
    "data['Month'] = data['date'].dt.month\n",
    "data.to_csv('result.csv',index=False)"
   ]
  },
  {
   "cell_type": "code",
   "execution_count": null,
   "metadata": {},
   "outputs": [],
   "source": []
  }
 ],
 "metadata": {
  "kernelspec": {
   "display_name": "Python 3",
   "language": "python",
   "name": "python3"
  },
  "language_info": {
   "codemirror_mode": {
    "name": "ipython",
    "version": 3
   },
   "file_extension": ".py",
   "mimetype": "text/x-python",
   "name": "python",
   "nbconvert_exporter": "python",
   "pygments_lexer": "ipython3",
   "version": "3.11.7"
  }
 },
 "nbformat": 4,
 "nbformat_minor": 2
}
