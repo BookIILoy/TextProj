{
 "cells": [
  {
   "cell_type": "code",
   "execution_count": 1,
   "metadata": {},
   "outputs": [],
   "source": [
    "import pandas as pd\n",
    "from ntscraper import Nitter"
   ]
  },
  {
   "cell_type": "code",
   "execution_count": 2,
   "metadata": {},
   "outputs": [
    {
     "name": "stderr",
     "output_type": "stream",
     "text": [
      "Testing instances: 100%|██████████| 77/77 [01:44<00:00,  1.36s/it]\n"
     ]
    }
   ],
   "source": [
    "Scraper = Nitter()"
   ]
  },
  {
   "cell_type": "code",
   "execution_count": 3,
   "metadata": {},
   "outputs": [
    {
     "name": "stdout",
     "output_type": "stream",
     "text": [
      "29-Apr-24 02:42:58 - No instance specified, using random instance https://nitter.esmailelbob.xyz\n",
      "29-Apr-24 02:43:04 - Current stats for BarackObama: 20 tweets, 0 threads...\n",
      "29-Apr-24 02:43:09 - Current stats for BarackObama: 40 tweets, 0 threads...\n",
      "29-Apr-24 02:43:13 - Current stats for BarackObama: 60 tweets, 0 threads...\n",
      "29-Apr-24 02:43:18 - Current stats for BarackObama: 80 tweets, 0 threads...\n",
      "29-Apr-24 02:43:22 - Current stats for BarackObama: 100 tweets, 0 threads...\n",
      "29-Apr-24 02:43:27 - Current stats for BarackObama: 120 tweets, 0 threads...\n",
      "29-Apr-24 02:43:31 - Current stats for BarackObama: 140 tweets, 0 threads...\n",
      "29-Apr-24 02:43:36 - Current stats for BarackObama: 160 tweets, 0 threads...\n",
      "29-Apr-24 02:43:40 - Current stats for BarackObama: 180 tweets, 0 threads...\n",
      "29-Apr-24 02:43:45 - Current stats for BarackObama: 200 tweets, 0 threads...\n",
      "29-Apr-24 02:43:49 - Current stats for BarackObama: 220 tweets, 0 threads...\n",
      "29-Apr-24 02:43:53 - Current stats for BarackObama: 240 tweets, 0 threads...\n",
      "29-Apr-24 02:43:58 - Current stats for BarackObama: 260 tweets, 0 threads...\n",
      "29-Apr-24 02:44:02 - Current stats for BarackObama: 280 tweets, 0 threads...\n",
      "29-Apr-24 02:44:07 - Current stats for BarackObama: 300 tweets, 0 threads...\n",
      "29-Apr-24 02:44:11 - Current stats for BarackObama: 320 tweets, 0 threads...\n",
      "29-Apr-24 02:44:15 - Current stats for BarackObama: 340 tweets, 0 threads...\n",
      "29-Apr-24 02:44:20 - Current stats for BarackObama: 360 tweets, 0 threads...\n",
      "29-Apr-24 02:44:24 - Current stats for BarackObama: 380 tweets, 0 threads...\n",
      "29-Apr-24 02:44:28 - Current stats for BarackObama: 400 tweets, 0 threads...\n",
      "29-Apr-24 02:44:32 - Current stats for BarackObama: 420 tweets, 0 threads...\n",
      "29-Apr-24 02:44:36 - Current stats for BarackObama: 440 tweets, 0 threads...\n",
      "29-Apr-24 02:44:41 - Current stats for BarackObama: 460 tweets, 0 threads...\n",
      "29-Apr-24 02:44:45 - Current stats for BarackObama: 480 tweets, 0 threads...\n",
      "29-Apr-24 02:44:50 - Current stats for BarackObama: 500 tweets, 0 threads...\n"
     ]
    }
   ],
   "source": [
    "#tweets =Scraper.get_tweets(\"realDonaldTrump\",mode ='user',number = 100)\n",
    "def scraping(input):\n",
    "    tweets =Scraper.get_tweets(input,mode ='user',number = 500)\n",
    "    return tweets\n",
    "\n",
    "tweets = scraping(\"BarackObama\")"
   ]
  },
  {
   "cell_type": "code",
   "execution_count": 4,
   "metadata": {},
   "outputs": [],
   "source": [
    "final_tweets = []\n",
    "for tweet in tweets['tweets']:\n",
    "    #data = [tweet['link'],tweet['text'],tweet['date'],tweet['stats']['likes'],tweet['stats']['comments']]\n",
    "    data = [tweet['text'],tweet['date']]\n",
    "    final_tweets.append(data)"
   ]
  },
  {
   "cell_type": "code",
   "execution_count": 5,
   "metadata": {},
   "outputs": [],
   "source": [
    "data =pd.DataFrame(final_tweets, columns= ['text','date'])\n",
    "#columns= ['link','text','date','no_likes','comment'])"
   ]
  },
  {
   "cell_type": "code",
   "execution_count": 6,
   "metadata": {},
   "outputs": [
    {
     "name": "stderr",
     "output_type": "stream",
     "text": [
      "/var/folders/wh/d15mczds4wxfm8qht9nw7p_w0000gn/T/ipykernel_2395/4118179080.py:2: UserWarning: Converting to PeriodArray/Index representation will drop timezone information.\n",
      "  data['date'] = data['date'].dt.to_period('M')\n"
     ]
    }
   ],
   "source": [
    "data['date'] = pd.to_datetime(data['date'], format='%b %d, %Y · %I:%M %p %Z')\n",
    "data['date'] = data['date'].dt.to_period('M')\n"
   ]
  },
  {
   "cell_type": "code",
   "execution_count": 7,
   "metadata": {},
   "outputs": [
    {
     "data": {
      "text/html": [
       "<div>\n",
       "<style scoped>\n",
       "    .dataframe tbody tr th:only-of-type {\n",
       "        vertical-align: middle;\n",
       "    }\n",
       "\n",
       "    .dataframe tbody tr th {\n",
       "        vertical-align: top;\n",
       "    }\n",
       "\n",
       "    .dataframe thead th {\n",
       "        text-align: right;\n",
       "    }\n",
       "</style>\n",
       "<table border=\"1\" class=\"dataframe\">\n",
       "  <thead>\n",
       "    <tr style=\"text-align: right;\">\n",
       "      <th></th>\n",
       "      <th>text</th>\n",
       "      <th>date</th>\n",
       "    </tr>\n",
       "  </thead>\n",
       "  <tbody>\n",
       "    <tr>\n",
       "      <th>495</th>\n",
       "      <td>I am shocked and saddened by the assassination...</td>\n",
       "      <td>2022-07</td>\n",
       "    </tr>\n",
       "    <tr>\n",
       "      <th>496</th>\n",
       "      <td>Right now, thousands of Ukrainian families are...</td>\n",
       "      <td>2022-07</td>\n",
       "    </tr>\n",
       "    <tr>\n",
       "      <th>497</th>\n",
       "      <td>Michelle and I mourn the passing of Clifford A...</td>\n",
       "      <td>2022-07</td>\n",
       "    </tr>\n",
       "    <tr>\n",
       "      <th>498</th>\n",
       "      <td>Happy birthday, Malia! No matter how sophistic...</td>\n",
       "      <td>2022-07</td>\n",
       "    </tr>\n",
       "    <tr>\n",
       "      <th>499</th>\n",
       "      <td>Happy Fourth of July!   As we celebrate today,...</td>\n",
       "      <td>2022-07</td>\n",
       "    </tr>\n",
       "  </tbody>\n",
       "</table>\n",
       "</div>"
      ],
      "text/plain": [
       "                                                  text     date\n",
       "495  I am shocked and saddened by the assassination...  2022-07\n",
       "496  Right now, thousands of Ukrainian families are...  2022-07\n",
       "497  Michelle and I mourn the passing of Clifford A...  2022-07\n",
       "498  Happy birthday, Malia! No matter how sophistic...  2022-07\n",
       "499  Happy Fourth of July!   As we celebrate today,...  2022-07"
      ]
     },
     "execution_count": 7,
     "metadata": {},
     "output_type": "execute_result"
    }
   ],
   "source": [
    "data.tail()"
   ]
  },
  {
   "cell_type": "code",
   "execution_count": 8,
   "metadata": {},
   "outputs": [],
   "source": [
    "import dill\n",
    "def clean(text):\n",
    "    import re\n",
    "    import nltk\n",
    "    from nltk.util import pr\n",
    "    stemmer = nltk.SnowballStemmer(\"english\")\n",
    "    from nltk.corpus import stopwords\n",
    "    import string\n",
    "    stopword = set(stopwords.words(\"english\"))\n",
    "    text = str(text).lower()\n",
    "    text = re.sub('[.?]', '', text)\n",
    "    text = re.sub('https?://\\S+|www\\.\\S+', '', text)\n",
    "    text = re.sub('<.?>+', '', text)\n",
    "    text = re.sub('[%s]' % re.escape(string.punctuation), '', text)\n",
    "    text = re.sub('\\n', '', text)\n",
    "    text = re.sub('\\w\\d\\w', '', text)\n",
    "    text = [word for word in text.split(' ') if word not in stopword]\n",
    "    text = \" \".join(text)\n",
    "    text = [stemmer.stem(word) for word in text.split(' ')]\n",
    "    text = \" \".join(text)\n",
    "    return text\n",
    "\n",
    "with open('../backend/textback/models/clean_function.pkl', 'wb') as f:\n",
    "     dill.dump(clean, f)"
   ]
  },
  {
   "cell_type": "code",
   "execution_count": 9,
   "metadata": {},
   "outputs": [],
   "source": [
    "import pickle\n",
    "model = pickle.load(open(\"../backend/textback/models/model.pkl\",\"rb\"))\n",
    "cv = pickle.load(open(\"../backend/textback/models/vectorizer.pkl\",\"rb\"))\n",
    "\n",
    "def predict(input):\n",
    "    input = cv.transform([input]).toarray()\n",
    "    predict = model.predict(input)[0]\n",
    "    return predict"
   ]
  },
  {
   "cell_type": "code",
   "execution_count": 10,
   "metadata": {},
   "outputs": [
    {
     "name": "stdout",
     "output_type": "stream",
     "text": [
      "Score about Negative and Nuetral in This user is\n",
      " Negative =  123 \n",
      " Nuetral =  377\n"
     ]
    }
   ],
   "source": [
    "tweets_cleaned = []\n",
    "Negative = 0\n",
    "Nuetral = 0\n",
    "for i in range(len(final_tweets)):\n",
    "    clean_tweets = clean(final_tweets[i])\n",
    "    if clean_tweets != \"\":\n",
    "        tweets_cleaned.append(clean_tweets)\n",
    "\n",
    "\n",
    "for i in range(len(tweets_cleaned)):\n",
    "    prediction = predict(tweets_cleaned[i])\n",
    "    if prediction == \"No hate and offensive speech\":\n",
    "        Nuetral += 1\n",
    "    elif prediction == \"Offensive language detected\":\n",
    "        Negative += 1\n",
    "    else :\n",
    "       Negative += 1\n",
    "\n",
    "#keep the score for each text in the dataframe file\n",
    "data['score'] = data['text'].apply(predict)\n",
    "\n",
    "#change score to numeric form 0,1,2\n",
    "data['score'] = data['score'].replace({'No hate and offensive speech':0,'Offensive language detected':1,'Hate speech Detected':2})\n",
    "print(\"Score about Negative and Nuetral in This user is\\n Negative = \" , Negative , \"\\n Nuetral = \" , Nuetral)\n"
   ]
  },
  {
   "cell_type": "code",
   "execution_count": 11,
   "metadata": {},
   "outputs": [],
   "source": [
    "#data to csv file\n",
    "data['Month'] = data['date'].dt.month\n",
    "data.to_csv('result.csv',index=False)"
   ]
  },
  {
   "cell_type": "code",
   "execution_count": null,
   "metadata": {},
   "outputs": [],
   "source": []
  }
 ],
 "metadata": {
  "kernelspec": {
   "display_name": "Python 3",
   "language": "python",
   "name": "python3"
  },
  "language_info": {
   "codemirror_mode": {
    "name": "ipython",
    "version": 3
   },
   "file_extension": ".py",
   "mimetype": "text/x-python",
   "name": "python",
   "nbconvert_exporter": "python",
   "pygments_lexer": "ipython3",
   "version": "3.12.0"
  }
 },
 "nbformat": 4,
 "nbformat_minor": 2
}
