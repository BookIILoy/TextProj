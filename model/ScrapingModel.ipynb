{
 "cells": [
  {
   "cell_type": "code",
   "execution_count": 4,
   "metadata": {},
   "outputs": [],
   "source": [
    "from selenium import webdriver\n",
    "from selenium.webdriver.common.by import By\n",
    "from selenium.webdriver.common.keys import Keys\n",
    "import pandas as pd\n",
    "import time\n",
    "import os"
   ]
  },
  {
   "cell_type": "code",
   "execution_count": 5,
   "metadata": {},
   "outputs": [],
   "source": [
    "import chromedriver_autoinstaller\n",
    "\n",
    "# Automatically download and install ChromeDriver\n",
    "chromedriver_autoinstaller.install()\n",
    "\n",
    "# Define options for Chrome\n",
    "chrome_options = webdriver.ChromeOptions()\n",
    "chrome_options.add_argument(\"--disable-blink-features=AutomationControlled\")  # Optional: run Chrome in headless mode\n",
    "\n",
    "# Initialize WebDriver with the specified options\n",
    "driver = webdriver.Chrome(options=chrome_options)\n",
    "\n",
    "# Now you can use the driver to navigate to the desired URL\n",
    "driver.get('https://twitter.com/elonmusk')"
   ]
  },
  {
   "cell_type": "code",
   "execution_count": 6,
   "metadata": {},
   "outputs": [],
   "source": [
    "num_posts_to_scrape = 100\n",
    "time.sleep(5)  # Let the page load\n",
    "\n",
    "# Scroll down to load more tweets\n",
    "body = driver.find_element(By.TAG_NAME,'body')\n",
    "for _ in range(10):  # Scroll 10 times\n",
    "    body.send_keys(Keys.PAGE_DOWN)\n",
    "    time.sleep(2)\n",
    "\n",
    "# Get tweet elements\n",
    "tweet_elements = driver.find_elements(By.XPATH,'//div[@data-testid=\"tweet\"]')\n",
    "\n",
    "# Extract text from tweet elements\n",
    "tweets = []\n",
    "for tweet_element in tweet_elements:\n",
    "    try:\n",
    "        tweet_text = tweet_element.find_element(By.XPATH,'.//div[@lang=\"en\"]').text\n",
    "        tweets.append(tweet_text)\n",
    "    except:\n",
    "        continue\n",
    "\n",
    "# Output tweets\n",
    "for i, tweet in enumerate(tweets[:num_posts_to_scrape], 1):\n",
    "    print(f\"Post {i}: {tweet}\")\n",
    "\n",
    "# Close the webdriver\n",
    "driver.quit()\n"
   ]
  }
 ],
 "metadata": {
  "kernelspec": {
   "display_name": "Python 3",
   "language": "python",
   "name": "python3"
  },
  "language_info": {
   "codemirror_mode": {
    "name": "ipython",
    "version": 3
   },
   "file_extension": ".py",
   "mimetype": "text/x-python",
   "name": "python",
   "nbconvert_exporter": "python",
   "pygments_lexer": "ipython3",
   "version": "3.12.0"
  }
 },
 "nbformat": 4,
 "nbformat_minor": 2
}
