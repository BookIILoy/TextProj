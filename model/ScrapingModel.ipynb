{
 "cells": [
  {
   "cell_type": "code",
   "execution_count": 54,
   "metadata": {},
   "outputs": [],
   "source": [
    "from selenium import webdriver\n",
    "from selenium.webdriver.common.by import By\n",
    "from selenium.webdriver.common.keys import Keys\n",
    "import pandas as pd\n",
    "import time\n",
    "import os"
   ]
  },
  {
   "cell_type": "code",
   "execution_count": 55,
   "metadata": {},
   "outputs": [],
   "source": [
    "import chromedriver_autoinstaller\n",
    "from selenium.webdriver.firefox.options import Options\n",
    "\n",
    "options = Options()\n",
    "options.add_argument('--disable-blink-features=AutomationControlled')\n",
    "\n",
    "# Automatically download and install ChromeDriver\n",
    "chromedriver_autoinstaller.install()\n",
    "\n",
    "# Define options for Chrome\n",
    "chrome_options = webdriver.ChromeOptions()\n",
    "chrome_options.add_argument(\"--disable-blink-features=AutomationControlled\")  # Optional: run Chrome in headless mode\n",
    "\n",
    "# Initialize WebDriver with the specified options\n",
    "driver = webdriver.Chrome(options=chrome_options)\n",
    "\n",
    "# Now you can use the driver to navigate to the desired URL\n",
    "driver.get('https://twitter.com/elonmusk/status/1781387457193230338')"
   ]
  },
  {
   "cell_type": "code",
   "execution_count": 56,
   "metadata": {},
   "outputs": [],
   "source": [
    "# Wait for the page to load\n",
    "time.sleep(5)\n",
    "\n",
    "# Simulate scrolling to load comments\n",
    "for i in range(10):\n",
    "    post = driver.find_element(By.TAG_NAME,'body')\n",
    "    post.send_keys(Keys.END)\n",
    "    print(post.text)\n",
    "    time.sleep(2)\n",
    "\n",
    "# Extract comments\n",
    "comments = driver.find_elements(By.XPATH,'//div[@data-testid=\"tweet\"]/div[2]/div[2]/div[1]')\n",
    "for comment in comments:\n",
    "    print(comment.text)\n",
    "\n",
    "driver.quit()\n"
   ]
  }
 ],
 "metadata": {
  "kernelspec": {
   "display_name": "Python 3",
   "language": "python",
   "name": "python3"
  },
  "language_info": {
   "codemirror_mode": {
    "name": "ipython",
    "version": 3
   },
   "file_extension": ".py",
   "mimetype": "text/x-python",
   "name": "python",
   "nbconvert_exporter": "python",
   "pygments_lexer": "ipython3",
   "version": "3.12.0"
  }
 },
 "nbformat": 4,
 "nbformat_minor": 2
}
